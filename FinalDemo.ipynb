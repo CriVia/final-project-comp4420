{
 "cells": [
  {
   "cell_type": "code",
   "execution_count": 6,
   "id": "fabb9d4c",
   "metadata": {},
   "outputs": [],
   "source": [
    "import gradio as gr\n",
    "import transformers\n",
    "from transformers import PreTrainedTokenizerFast, AutoTokenizer, T5Tokenizer,T5ForConditionalGeneration\n",
    "from transformer_mt.modeling_transformer import TransfomerEncoderDecoderModel\n"
   ]
  },
  {
   "cell_type": "code",
   "execution_count": 9,
   "id": "cc13dbb1",
   "metadata": {},
   "outputs": [],
   "source": [
    "source_tokenizer = PreTrainedTokenizerFast.from_pretrained(\"en_de_output_dir/en_tokenizer\")\n",
    "target_tokenizer = PreTrainedTokenizerFast.from_pretrained(\"en_de_output_dir/de_tokenizer\")\n",
    "\n",
    "model = TransfomerEncoderDecoderModel.from_pretrained(\"en_de_output_dir\")"
   ]
  },
  {
   "cell_type": "code",
   "execution_count": 10,
   "id": "439bbdee",
   "metadata": {},
   "outputs": [],
   "source": [
    "def translate(input):\n",
    "    input_ids = source_tokenizer.encode(input, return_tensors=\"pt\")\n",
    "    input_ids\n",
    "    output_ids = model.generate(\n",
    "        input_ids,\n",
    "        max_length=10,\n",
    "        bos_token_id=target_tokenizer.bos_token_id,\n",
    "        eos_token_id=target_tokenizer.eos_token_id,\n",
    "        pad_token_id=target_tokenizer.pad_token_id,\n",
    "    )\n",
    "    \n",
    "    return target_tokenizer.decode(output_ids[0])"
   ]
  },
  {
   "cell_type": "code",
   "execution_count": 11,
   "id": "50838b50",
   "metadata": {},
   "outputs": [
    {
     "name": "stdout",
     "output_type": "stream",
     "text": [
      "\n",
      "We want to invite you to become a beta user.\n",
      "You'll get early access to new and premium features (persistent links, hosting, and more).\n",
      "If you're interested please email: beta@gradio.app\n",
      "\n",
      "Running on local URL:  http://127.0.0.1:7860/\n",
      "Running on public URL: https://10004.gradio.app\n",
      "\n",
      "This share link expires in 72 hours. For free permanent hosting, check out Spaces (https://huggingface.co/spaces)\n"
     ]
    },
    {
     "data": {
      "text/html": [
       "\n",
       "        <iframe\n",
       "            width=\"900\"\n",
       "            height=\"500\"\n",
       "            src=\"https://10004.gradio.app\"\n",
       "            frameborder=\"0\"\n",
       "            allowfullscreen\n",
       "        ></iframe>\n",
       "        "
      ],
      "text/plain": [
       "<IPython.lib.display.IFrame at 0x223e2b1f4c0>"
      ]
     },
     "metadata": {},
     "output_type": "display_data"
    },
    {
     "data": {
      "text/plain": [
       "(<fastapi.applications.FastAPI at 0x2239c927f70>,\n",
       " 'http://127.0.0.1:7860/',\n",
       " 'https://10004.gradio.app')"
      ]
     },
     "execution_count": 11,
     "metadata": {},
     "output_type": "execute_result"
    }
   ],
   "source": [
    "iface = gr.Interface(fn=translate, inputs=\"text\", outputs=\"text\")\n",
    "iface.launch(share=True)"
   ]
  },
  {
   "cell_type": "code",
   "execution_count": null,
   "id": "9975aa0b",
   "metadata": {},
   "outputs": [],
   "source": []
  }
 ],
 "metadata": {
  "kernelspec": {
   "display_name": "Python 3 (ipykernel)",
   "language": "python",
   "name": "python3"
  },
  "language_info": {
   "codemirror_mode": {
    "name": "ipython",
    "version": 3
   },
   "file_extension": ".py",
   "mimetype": "text/x-python",
   "name": "python",
   "nbconvert_exporter": "python",
   "pygments_lexer": "ipython3",
   "version": "3.9.9"
  }
 },
 "nbformat": 4,
 "nbformat_minor": 5
}
